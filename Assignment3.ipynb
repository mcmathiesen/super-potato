{
  "nbformat": 4,
  "nbformat_minor": 0,
  "metadata": {
    "colab": {
      "name": "Assignment3.ipynb",
      "provenance": [],
      "collapsed_sections": [],
      "authorship_tag": "ABX9TyM3Ds++nh+OpgcYzBlo8UXD",
      "include_colab_link": true
    },
    "kernelspec": {
      "name": "python3",
      "display_name": "Python 3"
    },
    "language_info": {
      "name": "python"
    }
  },
  "cells": [
    {
      "cell_type": "markdown",
      "metadata": {
        "id": "view-in-github",
        "colab_type": "text"
      },
      "source": [
        "<a href=\"https://colab.research.google.com/github/mcmathiesen/super-potato/blob/main/Assignment3.ipynb\" target=\"_parent\"><img src=\"https://colab.research.google.com/assets/colab-badge.svg\" alt=\"Open In Colab\"/></a>"
      ]
    },
    {
      "cell_type": "code",
      "metadata": {
        "id": "Al8csOuVu1lt"
      },
      "source": [
        "import pandas as pd\n",
        "import numpy as np\n",
        "from sklearn.datasets import load_iris\n",
        "from sklearn.neighbors import KNeighborsClassifier\n",
        "from sklearn.model_selection import cross_val_score\n",
        "import matplotlib.pyplot as plt\n",
        "%matplotlib inline"
      ],
      "execution_count": 22,
      "outputs": []
    },
    {
      "cell_type": "code",
      "metadata": {
        "id": "B7IxUNVK1NTL"
      },
      "source": [
        "iris = load_iris()\n",
        "x = iris.data\n",
        "y = iris.target"
      ],
      "execution_count": 23,
      "outputs": []
    },
    {
      "cell_type": "code",
      "metadata": {
        "colab": {
          "base_uri": "https://localhost:8080/"
        },
        "id": "HCWQHUilZRQL",
        "outputId": "05f23418-07ab-4ad0-f1ba-d11ece411f61"
      },
      "source": [
        "knn = KNeighborsClassifier(n_neighbors=5)\n",
        "scores = cross_val_score(knn, x, y, cv=10, scoring = 'accuracy')\n",
        "print (scores)"
      ],
      "execution_count": 26,
      "outputs": [
        {
          "output_type": "stream",
          "text": [
            "[1.         0.93333333 1.         1.         0.86666667 0.93333333\n",
            " 0.93333333 1.         1.         1.        ]\n"
          ],
          "name": "stdout"
        }
      ]
    },
    {
      "cell_type": "code",
      "metadata": {
        "colab": {
          "base_uri": "https://localhost:8080/"
        },
        "id": "IEP_HOD7a2ny",
        "outputId": "9f64b8e6-0d53-467d-d52e-b23484dcb96b"
      },
      "source": [
        "print (scores.mean())"
      ],
      "execution_count": 28,
      "outputs": [
        {
          "output_type": "stream",
          "text": [
            "0.9666666666666668\n"
          ],
          "name": "stdout"
        }
      ]
    },
    {
      "cell_type": "code",
      "metadata": {
        "id": "tARLwe4obUBD"
      },
      "source": [
        " k_range = range(1,31)\n",
        " k_scores = []\n",
        " for k in k_range:  \n",
        "    knn = KNeighborsClassifier(n_neighbors=k)  \n",
        "    scores = cross_val_score(knn, x, y, cv=10)\n",
        "    k_scores.append(scores.mean())"
      ],
      "execution_count": 30,
      "outputs": []
    },
    {
      "cell_type": "code",
      "metadata": {
        "colab": {
          "base_uri": "https://localhost:8080/",
          "height": 297
        },
        "id": "dj2wXaKIcx0j",
        "outputId": "a0b2be32-d79f-40f6-f990-4d53c1b1184a"
      },
      "source": [
        "plt.plot(k_range, k_scores)\n",
        "plt.xlabel('Value of K for KNN')\n",
        "plt.ylabel('Cross-validated accuracy')"
      ],
      "execution_count": 31,
      "outputs": [
        {
          "output_type": "execute_result",
          "data": {
            "text/plain": [
              "Text(0, 0.5, 'Cross-validated accuracy')"
            ]
          },
          "metadata": {},
          "execution_count": 31
        },
        {
          "output_type": "display_data",
          "data": {
            "image/png": "[encoded data removed]",
            "text/plain": [
              "<Figure size 432x288 with 1 Axes>"
            ]
          },
          "metadata": {
            "needs_background": "light"
          }
        }
      ]
    },
    {
      "cell_type": "code",
      "metadata": {
        "id": "RPetCp9L_f7f"
      },
      "source": [
        "from sklearn.model_selection import GridSearchCV"
      ],
      "execution_count": 35,
      "outputs": []
    },
    {
      "cell_type": "code",
      "metadata": {
        "id": "Q505eBoE0IGT"
      },
      "source": [
        "k_range = range(1, 31)"
      ],
      "execution_count": 40,
      "outputs": []
    },
    {
      "cell_type": "code",
      "metadata": {
        "id": "l-6Nv_AbzOM4"
      },
      "source": [
        "param_grid = dict(n_neighbors = k_range)\n"
      ],
      "execution_count": 41,
      "outputs": []
    },
    {
      "cell_type": "code",
      "metadata": {
        "id": "UJuLq5Y5z6BY"
      },
      "source": [
        "grid = GridSearchCV(knn, param_grid, cv=10, scoring='accuracy')"
      ],
      "execution_count": 42,
      "outputs": []
    },
    {
      "cell_type": "code",
      "metadata": {
        "colab": {
          "base_uri": "https://localhost:8080/"
        },
        "id": "6Lm2DNqQ0MXb",
        "outputId": "221280e9-8ff0-49b3-c964-5e00645b8508"
      },
      "source": [
        "grid.fit(x, y)"
      ],
      "execution_count": 43,
      "outputs": [
        {
          "output_type": "execute_result",
          "data": {
            "text/plain": [
              "GridSearchCV(cv=10, error_score=nan,\n",
              "             estimator=KNeighborsClassifier(algorithm='auto', leaf_size=30,\n",
              "                                            metric='minkowski',\n",
              "                                            metric_params=None, n_jobs=None,\n",
              "                                            n_neighbors=30, p=2,\n",
              "                                            weights='uniform'),\n",
              "             iid='deprecated', n_jobs=None,\n",
              "             param_grid={'n_neighbors': range(1, 31)}, pre_dispatch='2*n_jobs',\n",
              "             refit=True, return_train_score=False, scoring='accuracy',\n",
              "             verbose=0)"
            ]
          },
          "metadata": {},
          "execution_count": 43
        }
      ]
    },
    {
      "cell_type": "code",
      "metadata": {
        "colab": {
          "base_uri": "https://localhost:8080/"
        },
        "id": "CJAypSR60jHp",
        "outputId": "2e086afb-259a-450e-c88b-58d3e2f1d04b"
      },
      "source": [
        "grid.cv_results_"
      ],
      "execution_count": 45,
      "outputs": [
        {
          "output_type": "execute_result",
          "data": {
            "text/plain": [
              "{'mean_fit_time': array([0.00064609, 0.00056238, 0.00047452, 0.00047889, 0.00047808,\n",
              "        0.00047526, 0.00053797, 0.00052059, 0.00048764, 0.00052967,\n",
              "        0.00052683, 0.00047808, 0.0005825 , 0.00053191, 0.00052557,\n",
              "        0.00062354, 0.00058739, 0.00054078, 0.00069456, 0.00046623,\n",
              "        0.00047498, 0.00051982, 0.00047615, 0.00048573, 0.00068011,\n",
              "        0.00062287, 0.0006319 , 0.00064576, 0.00059664, 0.00059369]),\n",
              " 'mean_score_time': array([0.00187824, 0.0016959 , 0.0013761 , 0.00134833, 0.00137744,\n",
              "        0.0014148 , 0.00156982, 0.00149944, 0.00141711, 0.00148923,\n",
              "        0.00147946, 0.0014684 , 0.0016566 , 0.00154438, 0.00161645,\n",
              "        0.00192022, 0.00169473, 0.00158808, 0.0018666 , 0.00139303,\n",
              "        0.00144217, 0.00150816, 0.00139413, 0.00145066, 0.00219893,\n",
              "        0.00185187, 0.00184085, 0.0019031 , 0.00179317, 0.00169818]),\n",
              " 'mean_test_score': array([0.96      , 0.95333333, 0.96666667, 0.96666667, 0.96666667,\n",
              "        0.96666667, 0.96666667, 0.96666667, 0.97333333, 0.96666667,\n",
              "        0.96666667, 0.97333333, 0.98      , 0.97333333, 0.97333333,\n",
              "        0.97333333, 0.97333333, 0.98      , 0.97333333, 0.98      ,\n",
              "        0.96666667, 0.96666667, 0.97333333, 0.96      , 0.96666667,\n",
              "        0.96      , 0.96666667, 0.95333333, 0.95333333, 0.95333333]),\n",
              " 'param_n_neighbors': masked_array(data=[1, 2, 3, 4, 5, 6, 7, 8, 9, 10, 11, 12, 13, 14, 15, 16,\n",
              "                    17, 18, 19, 20, 21, 22, 23, 24, 25, 26, 27, 28, 29, 30],\n",
              "              mask=[False, False, False, False, False, False, False, False,\n",
              "                    False, False, False, False, False, False, False, False,\n",
              "                    False, False, False, False, False, False, False, False,\n",
              "                    False, False, False, False, False, False],\n",
              "        fill_value='?',\n",
              "             dtype=object),\n",
              " 'params': [{'n_neighbors': 1},\n",
              "  {'n_neighbors': 2},\n",
              "  {'n_neighbors': 3},\n",
              "  {'n_neighbors': 4},\n",
              "  {'n_neighbors': 5},\n",
              "  {'n_neighbors': 6},\n",
              "  {'n_neighbors': 7},\n",
              "  {'n_neighbors': 8},\n",
              "  {'n_neighbors': 9},\n",
              "  {'n_neighbors': 10},\n",
              "  {'n_neighbors': 11},\n",
              "  {'n_neighbors': 12},\n",
              "  {'n_neighbors': 13},\n",
              "  {'n_neighbors': 14},\n",
              "  {'n_neighbors': 15},\n",
              "  {'n_neighbors': 16},\n",
              "  {'n_neighbors': 17},\n",
              "  {'n_neighbors': 18},\n",
              "  {'n_neighbors': 19},\n",
              "  {'n_neighbors': 20},\n",
              "  {'n_neighbors': 21},\n",
              "  {'n_neighbors': 22},\n",
              "  {'n_neighbors': 23},\n",
              "  {'n_neighbors': 24},\n",
              "  {'n_neighbors': 25},\n",
              "  {'n_neighbors': 26},\n",
              "  {'n_neighbors': 27},\n",
              "  {'n_neighbors': 28},\n",
              "  {'n_neighbors': 29},\n",
              "  {'n_neighbors': 30}],\n",
              " 'rank_test_score': array([24, 27, 18, 18, 12, 12, 12, 12,  4, 12, 12,  4,  1,  4,  4,  4,  4,\n",
              "         1,  4,  1, 18, 18,  4, 24, 18, 24, 18, 27, 27, 27], dtype=int32),\n",
              " 'split0_test_score': array([1.        , 1.        , 1.        , 1.        , 1.        ,\n",
              "        1.        , 1.        , 1.        , 1.        , 1.        ,\n",
              "        1.        , 1.        , 1.        , 1.        , 0.93333333,\n",
              "        1.        , 0.93333333, 1.        , 0.93333333, 1.        ,\n",
              "        0.93333333, 0.93333333, 0.93333333, 0.93333333, 0.93333333,\n",
              "        0.93333333, 0.93333333, 0.93333333, 0.93333333, 0.93333333]),\n",
              " 'split1_test_score': array([0.93333333, 0.93333333, 0.93333333, 0.93333333, 0.93333333,\n",
              "        0.93333333, 0.93333333, 0.93333333, 0.93333333, 0.93333333,\n",
              "        0.93333333, 0.93333333, 0.93333333, 0.93333333, 0.93333333,\n",
              "        0.93333333, 0.93333333, 0.93333333, 0.93333333, 0.93333333,\n",
              "        0.93333333, 0.93333333, 0.93333333, 0.93333333, 0.93333333,\n",
              "        0.93333333, 0.93333333, 0.93333333, 0.93333333, 0.93333333]),\n",
              " 'split2_test_score': array([1., 1., 1., 1., 1., 1., 1., 1., 1., 1., 1., 1., 1., 1., 1., 1., 1.,\n",
              "        1., 1., 1., 1., 1., 1., 1., 1., 1., 1., 1., 1., 1.]),\n",
              " 'split3_test_score': array([0.93333333, 0.93333333, 0.93333333, 0.93333333, 1.        ,\n",
              "        1.        , 1.        , 1.        , 1.        , 1.        ,\n",
              "        1.        , 1.        , 1.        , 1.        , 1.        ,\n",
              "        1.        , 1.        , 1.        , 1.        , 1.        ,\n",
              "        1.        , 1.        , 1.        , 1.        , 1.        ,\n",
              "        1.        , 1.        , 0.93333333, 0.93333333, 0.93333333]),\n",
              " 'split4_test_score': array([0.86666667, 0.86666667, 0.86666667, 0.86666667, 0.86666667,\n",
              "        0.86666667, 0.86666667, 1.        , 1.        , 1.        ,\n",
              "        1.        , 1.        , 1.        , 1.        , 1.        ,\n",
              "        1.        , 1.        , 1.        , 1.        , 1.        ,\n",
              "        0.93333333, 1.        , 1.        , 1.        , 1.        ,\n",
              "        1.        , 1.        , 1.        , 1.        , 1.        ]),\n",
              " 'split5_test_score': array([1.        , 1.        , 1.        , 1.        , 0.93333333,\n",
              "        0.93333333, 0.93333333, 0.86666667, 0.93333333, 0.86666667,\n",
              "        0.86666667, 0.93333333, 0.93333333, 0.86666667, 0.93333333,\n",
              "        0.93333333, 0.93333333, 0.93333333, 0.93333333, 0.93333333,\n",
              "        0.93333333, 0.93333333, 0.93333333, 0.86666667, 0.93333333,\n",
              "        0.86666667, 0.86666667, 0.86666667, 0.86666667, 0.86666667]),\n",
              " 'split6_test_score': array([0.86666667, 0.86666667, 0.93333333, 0.93333333, 0.93333333,\n",
              "        0.93333333, 0.93333333, 0.93333333, 0.93333333, 0.93333333,\n",
              "        0.93333333, 0.93333333, 0.93333333, 0.93333333, 0.93333333,\n",
              "        0.93333333, 0.93333333, 0.93333333, 0.93333333, 0.93333333,\n",
              "        0.93333333, 0.93333333, 0.93333333, 0.93333333, 0.93333333,\n",
              "        0.93333333, 0.93333333, 0.93333333, 0.93333333, 0.93333333]),\n",
              " 'split7_test_score': array([1.        , 0.93333333, 1.        , 1.        , 1.        ,\n",
              "        1.        , 1.        , 0.93333333, 0.93333333, 0.93333333,\n",
              "        0.93333333, 0.93333333, 1.        , 1.        , 1.        ,\n",
              "        0.93333333, 1.        , 1.        , 1.        , 1.        ,\n",
              "        1.        , 0.93333333, 1.        , 0.93333333, 0.93333333,\n",
              "        0.93333333, 1.        , 0.93333333, 0.93333333, 0.93333333]),\n",
              " 'split8_test_score': array([1., 1., 1., 1., 1., 1., 1., 1., 1., 1., 1., 1., 1., 1., 1., 1., 1.,\n",
              "        1., 1., 1., 1., 1., 1., 1., 1., 1., 1., 1., 1., 1.]),\n",
              " 'split9_test_score': array([1., 1., 1., 1., 1., 1., 1., 1., 1., 1., 1., 1., 1., 1., 1., 1., 1.,\n",
              "        1., 1., 1., 1., 1., 1., 1., 1., 1., 1., 1., 1., 1.]),\n",
              " 'std_fit_time': array([3.15084968e-04, 8.49738533e-05, 3.20741760e-05, 3.01080661e-05,\n",
              "        4.84245449e-05, 2.93836173e-05, 1.12907659e-04, 9.45804580e-05,\n",
              "        2.52187921e-05, 9.71868061e-05, 7.27272848e-05, 2.04448067e-05,\n",
              "        1.14845851e-04, 1.04804588e-04, 8.25390659e-05, 1.90566467e-04,\n",
              "        1.26446887e-04, 1.59847871e-04, 4.27998217e-04, 1.35891270e-05,\n",
              "        2.33579158e-05, 6.69964734e-05, 1.10217740e-05, 4.84859280e-05,\n",
              "        1.56223388e-04, 8.36504250e-05, 1.38108423e-04, 1.19655929e-04,\n",
              "        9.14512416e-05, 1.22001443e-04]),\n",
              " 'std_score_time': array([1.15022352e-03, 2.37628114e-04, 1.05283053e-04, 6.22024021e-05,\n",
              "        9.54346539e-05, 1.33604864e-04, 1.90692660e-04, 1.87242163e-04,\n",
              "        6.98580107e-05, 1.61691643e-04, 8.29474684e-05, 1.45668697e-04,\n",
              "        2.04685177e-04, 2.83482021e-04, 3.68066297e-04, 6.24354058e-04,\n",
              "        3.03091813e-04, 3.88511256e-04, 6.51362747e-04, 4.36245805e-05,\n",
              "        1.05289243e-04, 1.20437591e-04, 2.79345191e-05, 9.61303741e-05,\n",
              "        5.58897322e-04, 2.95275400e-04, 1.93326699e-04, 2.50238439e-04,\n",
              "        2.27018472e-04, 2.17349968e-04]),\n",
              " 'std_test_score': array([0.05333333, 0.05206833, 0.04472136, 0.04472136, 0.04472136,\n",
              "        0.04472136, 0.04472136, 0.04472136, 0.03265986, 0.04472136,\n",
              "        0.04472136, 0.03265986, 0.0305505 , 0.04422166, 0.03265986,\n",
              "        0.03265986, 0.03265986, 0.0305505 , 0.03265986, 0.0305505 ,\n",
              "        0.03333333, 0.03333333, 0.03265986, 0.04422166, 0.03333333,\n",
              "        0.04422166, 0.04472136, 0.04268749, 0.04268749, 0.04268749])}"
            ]
          },
          "metadata": {},
          "execution_count": 45
        }
      ]
    },
    {
      "cell_type": "code",
      "metadata": {
        "colab": {
          "base_uri": "https://localhost:8080/"
        },
        "id": "70-PlBxP3Edq",
        "outputId": "1f6bd91a-b355-4c61-e8e4-8cd95993aa12"
      },
      "source": [
        "grid.cv_results_.keys()"
      ],
      "execution_count": 48,
      "outputs": [
        {
          "output_type": "execute_result",
          "data": {
            "text/plain": [
              "dict_keys(['mean_fit_time', 'std_fit_time', 'mean_score_time', 'std_score_time', 'param_n_neighbors', 'params', 'split0_test_score', 'split1_test_score', 'split2_test_score', 'split3_test_score', 'split4_test_score', 'split5_test_score', 'split6_test_score', 'split7_test_score', 'split8_test_score', 'split9_test_score', 'mean_test_score', 'std_test_score', 'rank_test_score'])"
            ]
          },
          "metadata": {},
          "execution_count": 48
        }
      ]
    },
    {
      "cell_type": "code",
      "metadata": {
        "colab": {
          "base_uri": "https://localhost:8080/"
        },
        "id": "5YeS3gLE1ne2",
        "outputId": "0c44aa0c-17ad-4e4b-e8c0-52eda11642be"
      },
      "source": [
        "grid_mean_scores = []\n",
        "for i in ['mean_test_score']:\n",
        "  print(i, \":\", grid.cv_results_[i])\n",
        "  grid_mean_scores.append(grid.cv_results_[i])"
      ],
      "execution_count": 54,
      "outputs": [
        {
          "output_type": "stream",
          "text": [
            "mean_test_score : [0.96       0.95333333 0.96666667 0.96666667 0.96666667 0.96666667\n",
            " 0.96666667 0.96666667 0.97333333 0.96666667 0.96666667 0.97333333\n",
            " 0.98       0.97333333 0.97333333 0.97333333 0.97333333 0.98\n",
            " 0.97333333 0.98       0.96666667 0.96666667 0.97333333 0.96\n",
            " 0.96666667 0.96       0.96666667 0.95333333 0.95333333 0.95333333]\n"
          ],
          "name": "stdout"
        }
      ]
    },
    {
      "cell_type": "code",
      "metadata": {
        "colab": {
          "base_uri": "https://localhost:8080/"
        },
        "id": "4y28qHNA5L-9",
        "outputId": "2cfb5652-7c41-4e6e-e081-b7256945ad7e"
      },
      "source": [
        "print(grid_mean_scores)"
      ],
      "execution_count": 55,
      "outputs": [
        {
          "output_type": "stream",
          "text": [
            "[array([0.96      , 0.95333333, 0.96666667, 0.96666667, 0.96666667,\n",
            "       0.96666667, 0.96666667, 0.96666667, 0.97333333, 0.96666667,\n",
            "       0.96666667, 0.97333333, 0.98      , 0.97333333, 0.97333333,\n",
            "       0.97333333, 0.97333333, 0.98      , 0.97333333, 0.98      ,\n",
            "       0.96666667, 0.96666667, 0.97333333, 0.96      , 0.96666667,\n",
            "       0.96      , 0.96666667, 0.95333333, 0.95333333, 0.95333333])]\n"
          ],
          "name": "stdout"
        }
      ]
    },
    {
      "cell_type": "code",
      "metadata": {
        "colab": {
          "base_uri": "https://localhost:8080/"
        },
        "id": "Rc6OtchF6Mqy",
        "outputId": "37f7ed4d-451d-4532-ff63-21ef12baf610"
      },
      "source": [
        "print(grid.best_score_)\n",
        "print(grid.best_params_)\n"
      ],
      "execution_count": 58,
      "outputs": [
        {
          "output_type": "stream",
          "text": [
            "0.9800000000000001\n",
            "{'n_neighbors': 13}\n"
          ],
          "name": "stdout"
        }
      ]
    }
  ]
}